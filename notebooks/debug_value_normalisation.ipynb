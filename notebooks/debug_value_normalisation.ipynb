{
 "cells": [
  {
   "cell_type": "markdown",
   "metadata": {},
   "source": [
    "### Debug Value Normalisation\n",
    "\n",
    "Often we have errors spring up from normalising values in our data This notebook pulls the relevant code in to normalise a value and display the issue logs. this can be useful for isolating what goes wrong for a specific value before creating test cases"
   ]
  },
  {
   "cell_type": "code",
   "execution_count": 16,
   "metadata": {},
   "outputs": [
    {
     "name": "stdout",
     "output_type": "stream",
     "text": [
      "The autoreload extension is already loaded. To reload it, use:\n",
      "  %reload_ext autoreload\n"
     ]
    }
   ],
   "source": [
    "%load_ext autoreload\n",
    "%autoreload 2\n",
    "\n",
    "import urllib\n",
    "from digital_land.datatype.factory import datatype_factory\n",
    "from digital_land.configuration.main import Config\n",
    "from digital_land.collection import Collection\n",
    "from digital_land.pipeline import Pipeline\n",
    "from digital_land.organisation import Organisation\n",
    "from digital_land.log import IssueLog"
   ]
  },
  {
   "cell_type": "code",
   "execution_count": 17,
   "metadata": {},
   "outputs": [],
   "source": [
    "value = '0987-01-07'\n",
    "datatype_reference = \"datetime\"\n"
   ]
  },
  {
   "cell_type": "code",
   "execution_count": 19,
   "metadata": {},
   "outputs": [
    {
     "name": "stdout",
     "output_type": "stream",
     "text": [
      "0987-01-07\n",
      "0987-01-07\n",
      "[]\n"
     ]
    }
   ],
   "source": [
    "issues = IssueLog()\n",
    "datatype = datatype_factory(datatype_reference)\n",
    "normalised_value = datatype.normalise(value,issues)\n",
    "print(value)\n",
    "print(normalised_value)\n",
    "print(issues.rows)\n",
    "\n"
   ]
  },
  {
   "cell_type": "code",
   "execution_count": null,
   "metadata": {},
   "outputs": [],
   "source": []
  }
 ],
 "metadata": {
  "kernelspec": {
   "display_name": ".",
   "language": "python",
   "name": "python3"
  },
  "language_info": {
   "codemirror_mode": {
    "name": "ipython",
    "version": 3
   },
   "file_extension": ".py",
   "mimetype": "text/x-python",
   "name": "python",
   "nbconvert_exporter": "python",
   "pygments_lexer": "ipython3",
   "version": "3.8.20"
  }
 },
 "nbformat": 4,
 "nbformat_minor": 2
}
