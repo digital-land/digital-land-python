{
 "cells": [
  {
   "cell_type": "markdown",
   "metadata": {},
   "source": [
    "### Debug Collector Error\n",
    "\n",
    "We have have issues which come from being unable to collect data from a url. This notebook gives some quickly configurable code with the problematic url  to replicate the error and also un a simple request to check if it's because of our user agent."
   ]
  },
  {
   "cell_type": "code",
   "execution_count": 16,
   "metadata": {},
   "outputs": [
    {
     "name": "stdout",
     "output_type": "stream",
     "text": [
      "The autoreload extension is already loaded. To reload it, use:\n",
      "  %reload_ext autoreload\n"
     ]
    }
   ],
   "source": [
    "%load_ext autoreload\n",
    "%autoreload 2\n",
    "\n",
    "from digital_land.collect import Collector\n",
    "from pathlib import Path\n",
    "import requests"
   ]
  },
  {
   "cell_type": "code",
   "execution_count": 7,
   "metadata": {},
   "outputs": [],
   "source": [
    "endpoint_url = \"https://www.tendringdc.gov.uk/sites/default/files/documents/planning/CAD%20csv.csv\"\n",
    "plugin = ''\n",
    "\n",
    "data_dir = Path('./data/debug_collector_error')\n",
    "data_dir.mkdir(parents=True, exist_ok=True)"
   ]
  },
  {
   "cell_type": "code",
   "execution_count": null,
   "metadata": {},
   "outputs": [
    {
     "name": "stdout",
     "output_type": "stream",
     "text": [
      "url being fetched is: https://www.tendringdc.gov.uk/sites/default/files/documents/planning/CAD%20csv.csv\n"
     ]
    },
    {
     "name": "stderr",
     "output_type": "stream",
     "text": [
      "WARNING:root:HTTPSConnectionPool(host='legacy.tendringdc.gov.uk', port=443): Max retries exceeded with url: /sites/default/files/documents/planning/CAD%20csv.csv (Caused by SSLError(SSLCertVerificationError(1, '[SSL: CERTIFICATE_VERIFY_FAILED] certificate verify failed: unable to get local issuer certificate (_ssl.c:1147)')))\n"
     ]
    },
    {
     "data": {
      "text/plain": [
       "<FetchStatus.FAILED: 5>"
      ]
     },
     "execution_count": 14,
     "metadata": {},
     "output_type": "execute_result"
    }
   ],
   "source": [
    "\n",
    "collection_dir = data_dir / 'collection'\n",
    "collection_dir.mkdir(parents=True, exist_ok=True)\n",
    "\n",
    "collector = Collector(collection_dir=collection_dir)\n",
    "collector.fetch(\n",
    "        endpoint_url,\n",
    "        plugin=\"\",\n",
    "        refill_todays_logs=True,\n",
    "    )"
   ]
  },
  {
   "cell_type": "markdown",
   "metadata": {},
   "source": [
    "If an error is appearing above then use the below code to use head requests to check for common causes which are:\n",
    "\n",
    "* User Agent Error - this is when the request is only okay when we don't incldue our user agent. This is common as often web hosting providers stop rer-occuring user agents\n",
    "* SSL Error - this happens when we can't verify the SSL certificate\n",
    "\n",
    "Fo both these errors action needs to be take on the poviders end as we don't have control over these problems. if it's neither of these errors then it tends to imply that our code is adding complexity that is breaking it and you can review our code"
   ]
  },
  {
   "cell_type": "code",
   "execution_count": 15,
   "metadata": {},
   "outputs": [
    {
     "name": "stdout",
     "output_type": "stream",
     "text": [
      "SSL verification failed for https://www.tendringdc.gov.uk/sites/default/files/documents/planning/CAD%20csv.csv: HTTPSConnectionPool(host='legacy.tendringdc.gov.uk', port=443): Max retries exceeded with url: /sites/default/files/documents/planning/CAD%20csv.csv (Caused by SSLError(SSLCertVerificationError(1, '[SSL: CERTIFICATE_VERIFY_FAILED] certificate verify failed: unable to get local issuer certificate (_ssl.c:1147)')))\n"
     ]
    },
    {
     "name": "stderr",
     "output_type": "stream",
     "text": [
      "/Users/oweneveleigh/repos4/digital-land-python/.venv/lib/python3.9/site-packages/urllib3/connectionpool.py:1064: InsecureRequestWarning: Unverified HTTPS request is being made to host 'www.tendringdc.gov.uk'. Adding certificate verification is strongly advised. See: https://urllib3.readthedocs.io/en/1.26.x/advanced-usage.html#ssl-warnings\n",
      "  warnings.warn(\n"
     ]
    },
    {
     "name": "stdout",
     "output_type": "stream",
     "text": [
      "https://www.tendringdc.gov.uk/sites/default/files/documents/planning/CAD%20csv.csv is OK (200) when SSL verification is disabled.\n"
     ]
    },
    {
     "name": "stderr",
     "output_type": "stream",
     "text": [
      "/Users/oweneveleigh/repos4/digital-land-python/.venv/lib/python3.9/site-packages/urllib3/connectionpool.py:1064: InsecureRequestWarning: Unverified HTTPS request is being made to host 'legacy.tendringdc.gov.uk'. Adding certificate verification is strongly advised. See: https://urllib3.readthedocs.io/en/1.26.x/advanced-usage.html#ssl-warnings\n",
      "  warnings.warn(\n"
     ]
    }
   ],
   "source": [
    "try:\n",
    "    # Default is verify=True, but you can be explicit\n",
    "    response_original = requests.head(\n",
    "        endpoint_url, \n",
    "        timeout=5, \n",
    "        verify=True, \n",
    "        headers={\"User-Agent\": collector.user_agent},\n",
    "        allow_redirects=True\n",
    "    )\n",
    "    if response_original.status_code == 200:\n",
    "        print(f\"{endpoint_url} is OK (200). SSL verified.\")\n",
    "    else:\n",
    "        response_no_user_agent = requests.head(endpoint_url, timeout=5, verify=True,allow_redirects=True )\n",
    "\n",
    "        print(f\"{endpoint_url} returned status {response_no_user_agent.status_code}. SSL verified.\")\n",
    "except requests.exceptions.SSLError as ssl_err:\n",
    "    print(f\"SSL verification failed for {endpoint_url}: {ssl_err}\")\n",
    "    try:\n",
    "        response_no_verify = requests.head(\n",
    "            endpoint_url, \n",
    "            timeout=5, \n",
    "            verify=False, \n",
    "            headers={\"User-Agent\": collector.user_agent},\n",
    "            allow_redirects=True\n",
    "        )\n",
    "        if response_no_verify.status_code == 200:\n",
    "            print(f\"{endpoint_url} is OK (200) when SSL verification is disabled.\")\n",
    "        else:\n",
    "            print(f\"{endpoint_url} returned status {response_no_verify.status_code} when SSL verification is disabled.\")\n",
    "    except requests.RequestException as e:\n",
    "        print(f\"Error checking {endpoint_url} with SSL verification disabled: {e}\")\n",
    "except requests.RequestException as e:\n",
    "    print(f\"Error checking {endpoint_url}: {e}\")\n"
   ]
  }
 ],
 "metadata": {
  "kernelspec": {
   "display_name": "digital-land-python",
   "language": "python",
   "name": "python3"
  },
  "language_info": {
   "codemirror_mode": {
    "name": "ipython",
    "version": 3
   },
   "file_extension": ".py",
   "mimetype": "text/x-python",
   "name": "python",
   "nbconvert_exporter": "python",
   "pygments_lexer": "ipython3",
   "version": "3.9.22"
  }
 },
 "nbformat": 4,
 "nbformat_minor": 2
}
